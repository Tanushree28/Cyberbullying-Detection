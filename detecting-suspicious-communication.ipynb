{
 "cells": [
  {
   "cell_type": "markdown",
   "metadata": {
    "papermill": {
     "duration": 0.020266,
     "end_time": "2021-03-28T11:08:29.266899",
     "exception": false,
     "start_time": "2021-03-28T11:08:29.246633",
     "status": "completed"
    },
    "tags": []
   },
   "source": [
    "objective : detecting suspicious communication specificly (cyber bulling, threatning, terirosim ) from any type of txt data"
   ]
  },
  {
   "cell_type": "code",
   "execution_count": 1,
   "metadata": {
    "_cell_guid": "b1076dfc-b9ad-4769-8c92-a6c4dae69d19",
    "_uuid": "8f2839f25d086af736a60e9eeb907d3b93b6e0e5",
    "execution": {
     "iopub.execute_input": "2021-03-28T11:08:29.311735Z",
     "iopub.status.busy": "2021-03-28T11:08:29.310996Z",
     "iopub.status.idle": "2021-03-28T11:08:31.466930Z",
     "shell.execute_reply": "2021-03-28T11:08:31.466181Z"
    },
    "papermill": {
     "duration": 2.181943,
     "end_time": "2021-03-28T11:08:31.467196",
     "exception": false,
     "start_time": "2021-03-28T11:08:29.285253",
     "status": "completed"
    },
    "tags": []
   },
   "outputs": [
    {
     "name": "stdout",
     "output_type": "stream",
     "text": [
      "/kaggle/input/suspicious-tweets/suspicious tweets.csv\n"
     ]
    }
   ],
   "source": [
    "# This Python 3 environment comes with many helpful analytics libraries installed\n",
    "# It is defined by the kaggle/python Docker image: https://github.com/kaggle/docker-python\n",
    "# For example, here's several helpful packages to load\n",
    "\n",
    "import numpy as np # linear algebra\n",
    "import pandas as pd # data processing, CSV file I/O (e.g. pd.read_csv)\n",
    "import numpy as np\n",
    "import pandas as pd \n",
    "import nltk\n",
    "from nltk.stem import PorterStemmer\n",
    "from sklearn.feature_extraction.text import CountVectorizer\n",
    "from sklearn.feature_extraction.text import TfidfTransformer\n",
    "from sklearn.model_selection import train_test_split\n",
    "from sklearn.metrics import classification_report,confusion_matrix\n",
    "import seaborn as sns\n",
    "from nltk.corpus import stopwords\n",
    "import matplotlib.pyplot as plt\n",
    "# Input data files are available in the read-only \"../input/\" directory\n",
    "# For example, running this (by clicking run or pressing Shift+Enter) will list all files under the input directory\n",
    "\n",
    "import re, os\n",
    "for dirname, _, filenames in os.walk('/kaggle/input'):\n",
    "    for filename in filenames:\n",
    "        print(os.path.join(dirname, filename))\n",
    "\n"
   ]
  },
  {
   "cell_type": "code",
   "execution_count": 2,
   "metadata": {
    "execution": {
     "iopub.execute_input": "2021-03-28T11:08:31.513590Z",
     "iopub.status.busy": "2021-03-28T11:08:31.512886Z",
     "iopub.status.idle": "2021-03-28T11:08:31.710773Z",
     "shell.execute_reply": "2021-03-28T11:08:31.709856Z"
    },
    "papermill": {
     "duration": 0.224908,
     "end_time": "2021-03-28T11:08:31.710953",
     "exception": false,
     "start_time": "2021-03-28T11:08:31.486045",
     "status": "completed"
    },
    "tags": []
   },
   "outputs": [],
   "source": [
    "df = pd.read_csv('/kaggle/input/suspicious-tweets/suspicious tweets.csv')"
   ]
  },
  {
   "cell_type": "code",
   "execution_count": 3,
   "metadata": {
    "execution": {
     "iopub.execute_input": "2021-03-28T11:08:31.770012Z",
     "iopub.status.busy": "2021-03-28T11:08:31.758899Z",
     "iopub.status.idle": "2021-03-28T11:08:31.916492Z",
     "shell.execute_reply": "2021-03-28T11:08:31.917001Z"
    },
    "papermill": {
     "duration": 0.188077,
     "end_time": "2021-03-28T11:08:31.917221",
     "exception": false,
     "start_time": "2021-03-28T11:08:31.729144",
     "status": "completed"
    },
    "tags": []
   },
   "outputs": [
    {
     "data": {
      "text/html": [
       "<div>\n",
       "<style scoped>\n",
       "    .dataframe tbody tr th:only-of-type {\n",
       "        vertical-align: middle;\n",
       "    }\n",
       "\n",
       "    .dataframe tbody tr th {\n",
       "        vertical-align: top;\n",
       "    }\n",
       "\n",
       "    .dataframe thead tr th {\n",
       "        text-align: left;\n",
       "    }\n",
       "\n",
       "    .dataframe thead tr:last-of-type th {\n",
       "        text-align: right;\n",
       "    }\n",
       "</style>\n",
       "<table border=\"1\" class=\"dataframe\">\n",
       "  <thead>\n",
       "    <tr>\n",
       "      <th></th>\n",
       "      <th colspan=\"4\" halign=\"left\">message</th>\n",
       "    </tr>\n",
       "    <tr>\n",
       "      <th></th>\n",
       "      <th>count</th>\n",
       "      <th>unique</th>\n",
       "      <th>top</th>\n",
       "      <th>freq</th>\n",
       "    </tr>\n",
       "    <tr>\n",
       "      <th>label</th>\n",
       "      <th></th>\n",
       "      <th></th>\n",
       "      <th></th>\n",
       "      <th></th>\n",
       "    </tr>\n",
       "  </thead>\n",
       "  <tbody>\n",
       "    <tr>\n",
       "      <th>0</th>\n",
       "      <td>6145</td>\n",
       "      <td>6133</td>\n",
       "      <td>Something for nothing doesn't exist. What will...</td>\n",
       "      <td>2</td>\n",
       "    </tr>\n",
       "    <tr>\n",
       "      <th>1</th>\n",
       "      <td>53855</td>\n",
       "      <td>53574</td>\n",
       "      <td>@reatlas  Clean Me!</td>\n",
       "      <td>7</td>\n",
       "    </tr>\n",
       "  </tbody>\n",
       "</table>\n",
       "</div>"
      ],
      "text/plain": [
       "      message                                                               \n",
       "        count unique                                                top freq\n",
       "label                                                                       \n",
       "0        6145   6133  Something for nothing doesn't exist. What will...    2\n",
       "1       53855  53574                                @reatlas  Clean Me!    7"
      ]
     },
     "execution_count": 3,
     "metadata": {},
     "output_type": "execute_result"
    }
   ],
   "source": [
    "df.groupby('label').describe()"
   ]
  },
  {
   "cell_type": "code",
   "execution_count": 4,
   "metadata": {
    "execution": {
     "iopub.execute_input": "2021-03-28T11:08:31.961926Z",
     "iopub.status.busy": "2021-03-28T11:08:31.960881Z",
     "iopub.status.idle": "2021-03-28T11:08:31.993731Z",
     "shell.execute_reply": "2021-03-28T11:08:31.993127Z"
    },
    "papermill": {
     "duration": 0.05607,
     "end_time": "2021-03-28T11:08:31.993937",
     "exception": false,
     "start_time": "2021-03-28T11:08:31.937867",
     "status": "completed"
    },
    "tags": []
   },
   "outputs": [
    {
     "data": {
      "text/html": [
       "<div>\n",
       "<style scoped>\n",
       "    .dataframe tbody tr th:only-of-type {\n",
       "        vertical-align: middle;\n",
       "    }\n",
       "\n",
       "    .dataframe tbody tr th {\n",
       "        vertical-align: top;\n",
       "    }\n",
       "\n",
       "    .dataframe thead th {\n",
       "        text-align: right;\n",
       "    }\n",
       "</style>\n",
       "<table border=\"1\" class=\"dataframe\">\n",
       "  <thead>\n",
       "    <tr style=\"text-align: right;\">\n",
       "      <th></th>\n",
       "      <th>message</th>\n",
       "      <th>label</th>\n",
       "      <th>length</th>\n",
       "    </tr>\n",
       "  </thead>\n",
       "  <tbody>\n",
       "    <tr>\n",
       "      <th>0</th>\n",
       "      <td>@switchfoot http://twitpic.com/2y1zl - Awww, t...</td>\n",
       "      <td>1</td>\n",
       "      <td>115</td>\n",
       "    </tr>\n",
       "    <tr>\n",
       "      <th>1</th>\n",
       "      <td>is upset that he can't update his Facebook by ...</td>\n",
       "      <td>1</td>\n",
       "      <td>111</td>\n",
       "    </tr>\n",
       "    <tr>\n",
       "      <th>2</th>\n",
       "      <td>@Kenichan I dived many times for the ball. Man...</td>\n",
       "      <td>1</td>\n",
       "      <td>89</td>\n",
       "    </tr>\n",
       "    <tr>\n",
       "      <th>3</th>\n",
       "      <td>my whole body feels itchy and like its on fire</td>\n",
       "      <td>0</td>\n",
       "      <td>47</td>\n",
       "    </tr>\n",
       "    <tr>\n",
       "      <th>4</th>\n",
       "      <td>@nationwideclass no, it's not behaving at all....</td>\n",
       "      <td>1</td>\n",
       "      <td>111</td>\n",
       "    </tr>\n",
       "  </tbody>\n",
       "</table>\n",
       "</div>"
      ],
      "text/plain": [
       "                                             message  label  length\n",
       "0  @switchfoot http://twitpic.com/2y1zl - Awww, t...      1     115\n",
       "1  is upset that he can't update his Facebook by ...      1     111\n",
       "2  @Kenichan I dived many times for the ball. Man...      1      89\n",
       "3    my whole body feels itchy and like its on fire       0      47\n",
       "4  @nationwideclass no, it's not behaving at all....      1     111"
      ]
     },
     "execution_count": 4,
     "metadata": {},
     "output_type": "execute_result"
    }
   ],
   "source": [
    "df['length'] = df['message'].apply(len)\n",
    "df.head()"
   ]
  },
  {
   "cell_type": "code",
   "execution_count": 5,
   "metadata": {
    "execution": {
     "iopub.execute_input": "2021-03-28T11:08:32.040654Z",
     "iopub.status.busy": "2021-03-28T11:08:32.039940Z",
     "iopub.status.idle": "2021-03-28T11:08:32.043034Z",
     "shell.execute_reply": "2021-03-28T11:08:32.043541Z"
    },
    "papermill": {
     "duration": 0.029784,
     "end_time": "2021-03-28T11:08:32.043736",
     "exception": false,
     "start_time": "2021-03-28T11:08:32.013952",
     "status": "completed"
    },
    "tags": []
   },
   "outputs": [
    {
     "data": {
      "text/plain": [
       "0     1\n",
       "1     1\n",
       "2     1\n",
       "3     0\n",
       "4     1\n",
       "5     1\n",
       "6     1\n",
       "7     1\n",
       "8     1\n",
       "9     1\n",
       "10    1\n",
       "Name: label, dtype: int64"
      ]
     },
     "execution_count": 5,
     "metadata": {},
     "output_type": "execute_result"
    }
   ],
   "source": [
    "df_labels = df['label']\n",
    "df_labels.head(11)"
   ]
  },
  {
   "cell_type": "code",
   "execution_count": 6,
   "metadata": {
    "execution": {
     "iopub.execute_input": "2021-03-28T11:08:32.087265Z",
     "iopub.status.busy": "2021-03-28T11:08:32.086446Z",
     "iopub.status.idle": "2021-03-28T11:08:32.240057Z",
     "shell.execute_reply": "2021-03-28T11:08:32.239520Z"
    },
    "papermill": {
     "duration": 0.177019,
     "end_time": "2021-03-28T11:08:32.240210",
     "exception": false,
     "start_time": "2021-03-28T11:08:32.063191",
     "status": "completed"
    },
    "tags": []
   },
   "outputs": [
    {
     "data": {
      "image/png": "[encoded data removed]",
      "text/plain": [
       "<Figure size 432x288 with 1 Axes>"
      ]
     },
     "metadata": {},
     "output_type": "display_data"
    }
   ],
   "source": [
    "count_Class = pd.value_counts(df.label, sort = True)\n",
    "\n",
    "# Data to Plot\n",
    "labels = '0', '1'\n",
    "sizes = [count_Class[0], count_Class[1]]\n",
    "colors = ['red', 'skyblue']\n",
    "explode = (0.1, 0.1)\n",
    "\n",
    "# Plot\n",
    "plt.pie(sizes, explode = explode, labels = labels, colors = colors,\n",
    "        autopct = '%1.1f%%', shadow = True, startangle = 90)\n",
    "plt.axis('equal')\n",
    "plt.show()"
   ]
  },
  {
   "cell_type": "code",
   "execution_count": 7,
   "metadata": {
    "execution": {
     "iopub.execute_input": "2021-03-28T11:08:32.287862Z",
     "iopub.status.busy": "2021-03-28T11:08:32.287142Z",
     "iopub.status.idle": "2021-03-28T11:08:32.290435Z",
     "shell.execute_reply": "2021-03-28T11:08:32.289981Z"
    },
    "papermill": {
     "duration": 0.030442,
     "end_time": "2021-03-28T11:08:32.290607",
     "exception": false,
     "start_time": "2021-03-28T11:08:32.260165",
     "status": "completed"
    },
    "tags": []
   },
   "outputs": [],
   "source": [
    "def preprocess_text(sen):\n",
    "    sentence = re.sub('(https?:\\/\\/)?([\\da-z\\.-]+)\\.([a-z\\.]{2,6})([\\/\\w \\.-]*)',' ',sen) # Removing html tags\n",
    "    sentence = re.sub('[^a-zA-Z]', ' ', sentence) # Remove punctuations and numbers\n",
    "    sentence = re.sub(r\"\\s+[a-zA-Z]\\s+\", ' ', sentence) # Single character removal\n",
    "    sentence = re.sub(r'\\s+', ' ', sentence) # Removing multiple spaces\n",
    "    sentence = sentence.replace(\"ain't\", \"am not\").replace(\"aren't\", \"are not\")\n",
    "    sentence = ' '.join(text.lower() for text in sentence.split(' ')) # Lowering cases\n",
    "    sw = stopwords.words('english')\n",
    "    sentence = ' '.join(text for text in sentence.split() if text not in sw) #removing stopwords\n",
    "    #sentence = ' '.join(text.lemmatize() for text in sentence.split()) #lemmatization\n",
    "    return sentence\n",
    "       "
   ]
  },
  {
   "cell_type": "code",
   "execution_count": 8,
   "metadata": {
    "execution": {
     "iopub.execute_input": "2021-03-28T11:08:32.337911Z",
     "iopub.status.busy": "2021-03-28T11:08:32.337223Z",
     "iopub.status.idle": "2021-03-28T11:08:42.778308Z",
     "shell.execute_reply": "2021-03-28T11:08:42.777617Z"
    },
    "papermill": {
     "duration": 10.467904,
     "end_time": "2021-03-28T11:08:42.778492",
     "exception": false,
     "start_time": "2021-03-28T11:08:32.310588",
     "status": "completed"
    },
    "tags": []
   },
   "outputs": [],
   "source": [
    "df['message'] = df.message.apply(preprocess_text)"
   ]
  },
  {
   "cell_type": "code",
   "execution_count": 9,
   "metadata": {
    "execution": {
     "iopub.execute_input": "2021-03-28T11:08:42.825878Z",
     "iopub.status.busy": "2021-03-28T11:08:42.825121Z",
     "iopub.status.idle": "2021-03-28T11:08:48.520254Z",
     "shell.execute_reply": "2021-03-28T11:08:48.519713Z"
    },
    "papermill": {
     "duration": 5.721703,
     "end_time": "2021-03-28T11:08:48.520424",
     "exception": false,
     "start_time": "2021-03-28T11:08:42.798721",
     "status": "completed"
    },
    "tags": []
   },
   "outputs": [],
   "source": [
    "df['message'] = df['message'].apply(nltk.word_tokenize)"
   ]
  },
  {
   "cell_type": "code",
   "execution_count": 10,
   "metadata": {
    "execution": {
     "iopub.execute_input": "2021-03-28T11:08:48.569226Z",
     "iopub.status.busy": "2021-03-28T11:08:48.568214Z",
     "iopub.status.idle": "2021-03-28T11:08:56.430995Z",
     "shell.execute_reply": "2021-03-28T11:08:56.430417Z"
    },
    "papermill": {
     "duration": 7.890258,
     "end_time": "2021-03-28T11:08:56.431166",
     "exception": false,
     "start_time": "2021-03-28T11:08:48.540908",
     "status": "completed"
    },
    "tags": []
   },
   "outputs": [],
   "source": [
    "stemmer = PorterStemmer()\n",
    "df['message'] = df['message'].apply(lambda x: [stemmer.stem(y) for y in x])"
   ]
  },
  {
   "cell_type": "code",
   "execution_count": 11,
   "metadata": {
    "execution": {
     "iopub.execute_input": "2021-03-28T11:08:56.479915Z",
     "iopub.status.busy": "2021-03-28T11:08:56.479247Z",
     "iopub.status.idle": "2021-03-28T11:08:56.482991Z",
     "shell.execute_reply": "2021-03-28T11:08:56.483533Z"
    },
    "papermill": {
     "duration": 0.031972,
     "end_time": "2021-03-28T11:08:56.483721",
     "exception": false,
     "start_time": "2021-03-28T11:08:56.451749",
     "status": "completed"
    },
    "tags": []
   },
   "outputs": [
    {
     "data": {
      "text/plain": [
       "0    [switchfoot, bummer, shoulda, got, david, carr...\n",
       "1                       [upset, updat, facebook, text]\n",
       "2    [kenichan, dive, mani, time, ball, manag, save...\n",
       "3               [whole, bodi, feel, itchi, like, fire]\n",
       "4                   [nationwideclass, behav, mad, see]\n",
       "Name: message, dtype: object"
      ]
     },
     "execution_count": 11,
     "metadata": {},
     "output_type": "execute_result"
    }
   ],
   "source": [
    "show = df['message']\n",
    "show.head()"
   ]
  },
  {
   "cell_type": "code",
   "execution_count": 12,
   "metadata": {
    "execution": {
     "iopub.execute_input": "2021-03-28T11:08:56.528515Z",
     "iopub.status.busy": "2021-03-28T11:08:56.527830Z",
     "iopub.status.idle": "2021-03-28T11:08:57.364953Z",
     "shell.execute_reply": "2021-03-28T11:08:57.364233Z"
    },
    "papermill": {
     "duration": 0.860606,
     "end_time": "2021-03-28T11:08:57.365121",
     "exception": false,
     "start_time": "2021-03-28T11:08:56.504515",
     "status": "completed"
    },
    "tags": []
   },
   "outputs": [],
   "source": [
    "df['message'] = df['message'].apply(lambda x: ' '.join(x))\n",
    "count_vect = CountVectorizer()\n",
    "counts = count_vect.fit_transform(df['message']);"
   ]
  },
  {
   "cell_type": "code",
   "execution_count": 13,
   "metadata": {
    "execution": {
     "iopub.execute_input": "2021-03-28T11:08:57.411943Z",
     "iopub.status.busy": "2021-03-28T11:08:57.411300Z",
     "iopub.status.idle": "2021-03-28T11:08:57.459375Z",
     "shell.execute_reply": "2021-03-28T11:08:57.458682Z"
    },
    "papermill": {
     "duration": 0.073775,
     "end_time": "2021-03-28T11:08:57.459549",
     "exception": false,
     "start_time": "2021-03-28T11:08:57.385774",
     "status": "completed"
    },
    "tags": []
   },
   "outputs": [],
   "source": [
    "transformer = TfidfTransformer().fit(counts)\n",
    "counts = transformer.fit_transform(counts)"
   ]
  },
  {
   "cell_type": "code",
   "execution_count": 14,
   "metadata": {
    "execution": {
     "iopub.execute_input": "2021-03-28T11:08:57.509103Z",
     "iopub.status.busy": "2021-03-28T11:08:57.506854Z",
     "iopub.status.idle": "2021-03-28T11:08:57.520319Z",
     "shell.execute_reply": "2021-03-28T11:08:57.519827Z"
    },
    "papermill": {
     "duration": 0.040159,
     "end_time": "2021-03-28T11:08:57.520510",
     "exception": false,
     "start_time": "2021-03-28T11:08:57.480351",
     "status": "completed"
    },
    "tags": []
   },
   "outputs": [],
   "source": [
    "X_train, X_test, y_train, y_test = train_test_split(counts, df['label'], test_size=0.3, random_state=69)"
   ]
  },
  {
   "cell_type": "code",
   "execution_count": 15,
   "metadata": {
    "execution": {
     "iopub.execute_input": "2021-03-28T11:08:57.566781Z",
     "iopub.status.busy": "2021-03-28T11:08:57.565907Z",
     "iopub.status.idle": "2021-03-28T11:08:57.733125Z",
     "shell.execute_reply": "2021-03-28T11:08:57.732235Z"
    },
    "papermill": {
     "duration": 0.191886,
     "end_time": "2021-03-28T11:08:57.733322",
     "exception": false,
     "start_time": "2021-03-28T11:08:57.541436",
     "status": "completed"
    },
    "tags": []
   },
   "outputs": [],
   "source": [
    "from sklearn.naive_bayes import MultinomialNB\n",
    "from sklearn.svm import SVC\n",
    "from sklearn.tree import DecisionTreeClassifier\n",
    "from sklearn.ensemble import AdaBoostClassifier"
   ]
  },
  {
   "cell_type": "code",
   "execution_count": 16,
   "metadata": {
    "execution": {
     "iopub.execute_input": "2021-03-28T11:08:57.781592Z",
     "iopub.status.busy": "2021-03-28T11:08:57.780300Z",
     "iopub.status.idle": "2021-03-28T11:08:57.798542Z",
     "shell.execute_reply": "2021-03-28T11:08:57.797984Z"
    },
    "papermill": {
     "duration": 0.044082,
     "end_time": "2021-03-28T11:08:57.798700",
     "exception": false,
     "start_time": "2021-03-28T11:08:57.754618",
     "status": "completed"
    },
    "tags": []
   },
   "outputs": [],
   "source": [
    "# implementing naive bayes\n",
    "NB = MultinomialNB().fit(X_train, y_train)"
   ]
  },
  {
   "cell_type": "code",
   "execution_count": 17,
   "metadata": {
    "execution": {
     "iopub.execute_input": "2021-03-28T11:08:57.847653Z",
     "iopub.status.busy": "2021-03-28T11:08:57.846623Z",
     "iopub.status.idle": "2021-03-28T11:08:57.856704Z",
     "shell.execute_reply": "2021-03-28T11:08:57.856047Z"
    },
    "papermill": {
     "duration": 0.036778,
     "end_time": "2021-03-28T11:08:57.856868",
     "exception": false,
     "start_time": "2021-03-28T11:08:57.820090",
     "status": "completed"
    },
    "tags": []
   },
   "outputs": [
    {
     "name": "stdout",
     "output_type": "stream",
     "text": [
      "0.9002222222222223\n"
     ]
    }
   ],
   "source": [
    "predicted = NB.predict(X_test)\n",
    "\n",
    "print(np.mean(predicted == y_test))"
   ]
  },
  {
   "cell_type": "code",
   "execution_count": 18,
   "metadata": {
    "execution": {
     "iopub.execute_input": "2021-03-28T11:08:57.906434Z",
     "iopub.status.busy": "2021-03-28T11:08:57.905409Z",
     "iopub.status.idle": "2021-03-28T11:08:57.935103Z",
     "shell.execute_reply": "2021-03-28T11:08:57.934439Z"
    },
    "papermill": {
     "duration": 0.056923,
     "end_time": "2021-03-28T11:08:57.935280",
     "exception": false,
     "start_time": "2021-03-28T11:08:57.878357",
     "status": "completed"
    },
    "tags": []
   },
   "outputs": [
    {
     "name": "stdout",
     "output_type": "stream",
     "text": [
      "              precision    recall  f1-score   support\n",
      "\n",
      "           0       1.00      0.04      0.08      1869\n",
      "           1       0.90      1.00      0.95     16131\n",
      "\n",
      "    accuracy                           0.90     18000\n",
      "   macro avg       0.95      0.52      0.51     18000\n",
      "weighted avg       0.91      0.90      0.86     18000\n",
      "\n"
     ]
    }
   ],
   "source": [
    "print(classification_report(y_test,predicted))"
   ]
  },
  {
   "cell_type": "code",
   "execution_count": 19,
   "metadata": {
    "execution": {
     "iopub.execute_input": "2021-03-28T11:08:57.985034Z",
     "iopub.status.busy": "2021-03-28T11:08:57.984372Z",
     "iopub.status.idle": "2021-03-28T11:08:58.004245Z",
     "shell.execute_reply": "2021-03-28T11:08:58.003599Z"
    },
    "papermill": {
     "duration": 0.04707,
     "end_time": "2021-03-28T11:08:58.004403",
     "exception": false,
     "start_time": "2021-03-28T11:08:57.957333",
     "status": "completed"
    },
    "tags": []
   },
   "outputs": [
    {
     "name": "stdout",
     "output_type": "stream",
     "text": [
      "[[   73  1796]\n",
      " [    0 16131]]\n"
     ]
    }
   ],
   "source": [
    "print(confusion_matrix(y_test, predicted))"
   ]
  },
  {
   "cell_type": "code",
   "execution_count": 20,
   "metadata": {
    "execution": {
     "iopub.execute_input": "2021-03-28T11:08:58.055237Z",
     "iopub.status.busy": "2021-03-28T11:08:58.054093Z",
     "iopub.status.idle": "2021-03-28T11:17:41.214824Z",
     "shell.execute_reply": "2021-03-28T11:17:41.213914Z"
    },
    "papermill": {
     "duration": 523.188307,
     "end_time": "2021-03-28T11:17:41.215148",
     "exception": false,
     "start_time": "2021-03-28T11:08:58.026841",
     "status": "completed"
    },
    "tags": []
   },
   "outputs": [],
   "source": [
    "# implementing SVM\n",
    "sv = SVC().fit(X_train, y_train)"
   ]
  },
  {
   "cell_type": "code",
   "execution_count": 21,
   "metadata": {
    "execution": {
     "iopub.execute_input": "2021-03-28T11:17:41.269811Z",
     "iopub.status.busy": "2021-03-28T11:17:41.268994Z",
     "iopub.status.idle": "2021-03-28T11:18:35.566494Z",
     "shell.execute_reply": "2021-03-28T11:18:35.567215Z"
    },
    "papermill": {
     "duration": 54.327353,
     "end_time": "2021-03-28T11:18:35.567451",
     "exception": false,
     "start_time": "2021-03-28T11:17:41.240098",
     "status": "completed"
    },
    "tags": []
   },
   "outputs": [
    {
     "name": "stdout",
     "output_type": "stream",
     "text": [
      "0.9588888888888889\n"
     ]
    }
   ],
   "source": [
    "predicted = sv.predict(X_test)\n",
    "\n",
    "print(np.mean(predicted == y_test))"
   ]
  },
  {
   "cell_type": "code",
   "execution_count": 22,
   "metadata": {
    "execution": {
     "iopub.execute_input": "2021-03-28T11:18:35.619102Z",
     "iopub.status.busy": "2021-03-28T11:18:35.618378Z",
     "iopub.status.idle": "2021-03-28T11:18:35.648058Z",
     "shell.execute_reply": "2021-03-28T11:18:35.648935Z"
    },
    "papermill": {
     "duration": 0.058262,
     "end_time": "2021-03-28T11:18:35.649251",
     "exception": false,
     "start_time": "2021-03-28T11:18:35.590989",
     "status": "completed"
    },
    "tags": []
   },
   "outputs": [
    {
     "name": "stdout",
     "output_type": "stream",
     "text": [
      "              precision    recall  f1-score   support\n",
      "\n",
      "           0       0.97      0.62      0.76      1869\n",
      "           1       0.96      1.00      0.98     16131\n",
      "\n",
      "    accuracy                           0.96     18000\n",
      "   macro avg       0.96      0.81      0.87     18000\n",
      "weighted avg       0.96      0.96      0.95     18000\n",
      "\n"
     ]
    }
   ],
   "source": [
    "print(classification_report(y_test,predicted))"
   ]
  },
  {
   "cell_type": "code",
   "execution_count": 23,
   "metadata": {
    "execution": {
     "iopub.execute_input": "2021-03-28T11:18:35.700805Z",
     "iopub.status.busy": "2021-03-28T11:18:35.700122Z",
     "iopub.status.idle": "2021-03-28T11:18:35.722607Z",
     "shell.execute_reply": "2021-03-28T11:18:35.721920Z"
    },
    "papermill": {
     "duration": 0.0488,
     "end_time": "2021-03-28T11:18:35.722778",
     "exception": false,
     "start_time": "2021-03-28T11:18:35.673978",
     "status": "completed"
    },
    "tags": []
   },
   "outputs": [
    {
     "name": "stdout",
     "output_type": "stream",
     "text": [
      "[[ 1164   705]\n",
      " [   35 16096]]\n"
     ]
    }
   ],
   "source": [
    "print(confusion_matrix(y_test, predicted))"
   ]
  },
  {
   "cell_type": "code",
   "execution_count": 24,
   "metadata": {
    "execution": {
     "iopub.execute_input": "2021-03-28T11:18:35.776084Z",
     "iopub.status.busy": "2021-03-28T11:18:35.775124Z",
     "iopub.status.idle": "2021-03-28T11:19:09.286602Z",
     "shell.execute_reply": "2021-03-28T11:19:09.285824Z"
    },
    "papermill": {
     "duration": 33.540018,
     "end_time": "2021-03-28T11:19:09.286801",
     "exception": false,
     "start_time": "2021-03-28T11:18:35.746783",
     "status": "completed"
    },
    "tags": []
   },
   "outputs": [],
   "source": [
    "# implementing disession tree\n",
    "\n",
    "dt = DecisionTreeClassifier().fit(X_train, y_train)"
   ]
  },
  {
   "cell_type": "code",
   "execution_count": 25,
   "metadata": {
    "execution": {
     "iopub.execute_input": "2021-03-28T11:19:09.341775Z",
     "iopub.status.busy": "2021-03-28T11:19:09.340708Z",
     "iopub.status.idle": "2021-03-28T11:19:09.399280Z",
     "shell.execute_reply": "2021-03-28T11:19:09.399797Z"
    },
    "papermill": {
     "duration": 0.088673,
     "end_time": "2021-03-28T11:19:09.399994",
     "exception": false,
     "start_time": "2021-03-28T11:19:09.311321",
     "status": "completed"
    },
    "tags": []
   },
   "outputs": [
    {
     "name": "stdout",
     "output_type": "stream",
     "text": [
      "0.9721111111111111\n"
     ]
    }
   ],
   "source": [
    "predicted = dt.predict(X_test)\n",
    "\n",
    "print(np.mean(predicted == y_test))"
   ]
  },
  {
   "cell_type": "code",
   "execution_count": 26,
   "metadata": {
    "execution": {
     "iopub.execute_input": "2021-03-28T11:19:09.451333Z",
     "iopub.status.busy": "2021-03-28T11:19:09.450692Z",
     "iopub.status.idle": "2021-03-28T11:19:09.481300Z",
     "shell.execute_reply": "2021-03-28T11:19:09.481823Z"
    },
    "papermill": {
     "duration": 0.058168,
     "end_time": "2021-03-28T11:19:09.482022",
     "exception": false,
     "start_time": "2021-03-28T11:19:09.423854",
     "status": "completed"
    },
    "tags": []
   },
   "outputs": [
    {
     "name": "stdout",
     "output_type": "stream",
     "text": [
      "              precision    recall  f1-score   support\n",
      "\n",
      "           0       0.89      0.84      0.86      1869\n",
      "           1       0.98      0.99      0.98     16131\n",
      "\n",
      "    accuracy                           0.97     18000\n",
      "   macro avg       0.93      0.91      0.92     18000\n",
      "weighted avg       0.97      0.97      0.97     18000\n",
      "\n"
     ]
    }
   ],
   "source": [
    "print(classification_report(y_test,predicted))"
   ]
  },
  {
   "cell_type": "code",
   "execution_count": 27,
   "metadata": {
    "execution": {
     "iopub.execute_input": "2021-03-28T11:19:09.534621Z",
     "iopub.status.busy": "2021-03-28T11:19:09.533649Z",
     "iopub.status.idle": "2021-03-28T11:19:09.554640Z",
     "shell.execute_reply": "2021-03-28T11:19:09.555672Z"
    },
    "papermill": {
     "duration": 0.049638,
     "end_time": "2021-03-28T11:19:09.555949",
     "exception": false,
     "start_time": "2021-03-28T11:19:09.506311",
     "status": "completed"
    },
    "tags": []
   },
   "outputs": [
    {
     "name": "stdout",
     "output_type": "stream",
     "text": [
      "[[ 1565   304]\n",
      " [  198 15933]]\n"
     ]
    }
   ],
   "source": [
    "print(confusion_matrix(y_test, predicted))"
   ]
  },
  {
   "cell_type": "code",
   "execution_count": 28,
   "metadata": {
    "execution": {
     "iopub.execute_input": "2021-03-28T11:19:09.609844Z",
     "iopub.status.busy": "2021-03-28T11:19:09.609074Z",
     "iopub.status.idle": "2021-03-28T11:20:16.724651Z",
     "shell.execute_reply": "2021-03-28T11:20:16.725108Z"
    },
    "papermill": {
     "duration": 67.143772,
     "end_time": "2021-03-28T11:20:16.725313",
     "exception": false,
     "start_time": "2021-03-28T11:19:09.581541",
     "status": "completed"
    },
    "tags": []
   },
   "outputs": [],
   "source": [
    "# implementing adabost \n",
    "ab = AdaBoostClassifier().fit(X_train, y_train)"
   ]
  },
  {
   "cell_type": "code",
   "execution_count": 29,
   "metadata": {
    "execution": {
     "iopub.execute_input": "2021-03-28T11:20:16.780875Z",
     "iopub.status.busy": "2021-03-28T11:20:16.779884Z",
     "iopub.status.idle": "2021-03-28T11:20:16.957950Z",
     "shell.execute_reply": "2021-03-28T11:20:16.957406Z"
    },
    "papermill": {
     "duration": 0.207945,
     "end_time": "2021-03-28T11:20:16.958136",
     "exception": false,
     "start_time": "2021-03-28T11:20:16.750191",
     "status": "completed"
    },
    "tags": []
   },
   "outputs": [
    {
     "name": "stdout",
     "output_type": "stream",
     "text": [
      "0.9655555555555555\n"
     ]
    }
   ],
   "source": [
    "predicted = ab.predict(X_test)\n",
    "\n",
    "print(np.mean(predicted == y_test))"
   ]
  },
  {
   "cell_type": "code",
   "execution_count": 30,
   "metadata": {
    "execution": {
     "iopub.execute_input": "2021-03-28T11:20:17.015856Z",
     "iopub.status.busy": "2021-03-28T11:20:17.014739Z",
     "iopub.status.idle": "2021-03-28T11:20:17.047792Z",
     "shell.execute_reply": "2021-03-28T11:20:17.046838Z"
    },
    "papermill": {
     "duration": 0.064125,
     "end_time": "2021-03-28T11:20:17.048005",
     "exception": false,
     "start_time": "2021-03-28T11:20:16.983880",
     "status": "completed"
    },
    "tags": []
   },
   "outputs": [
    {
     "name": "stdout",
     "output_type": "stream",
     "text": [
      "              precision    recall  f1-score   support\n",
      "\n",
      "           0       0.95      0.70      0.81      1869\n",
      "           1       0.97      1.00      0.98     16131\n",
      "\n",
      "    accuracy                           0.97     18000\n",
      "   macro avg       0.96      0.85      0.90     18000\n",
      "weighted avg       0.97      0.97      0.96     18000\n",
      "\n"
     ]
    }
   ],
   "source": [
    "print(classification_report(y_test,predicted))"
   ]
  },
  {
   "cell_type": "code",
   "execution_count": 31,
   "metadata": {
    "execution": {
     "iopub.execute_input": "2021-03-28T11:20:17.106184Z",
     "iopub.status.busy": "2021-03-28T11:20:17.105518Z",
     "iopub.status.idle": "2021-03-28T11:20:17.124195Z",
     "shell.execute_reply": "2021-03-28T11:20:17.124748Z"
    },
    "papermill": {
     "duration": 0.051119,
     "end_time": "2021-03-28T11:20:17.124961",
     "exception": false,
     "start_time": "2021-03-28T11:20:17.073842",
     "status": "completed"
    },
    "tags": []
   },
   "outputs": [
    {
     "name": "stdout",
     "output_type": "stream",
     "text": [
      "[[ 1314   555]\n",
      " [   65 16066]]\n"
     ]
    }
   ],
   "source": [
    "print(confusion_matrix(y_test, predicted))"
   ]
  },
  {
   "cell_type": "markdown",
   "metadata": {
    "papermill": {
     "duration": 0.0308,
     "end_time": "2021-03-28T11:20:17.185450",
     "exception": false,
     "start_time": "2021-03-28T11:20:17.154650",
     "status": "completed"
    },
    "tags": []
   },
   "source": [
    "***prediction***\n",
    "create a new column name of auto tag in wich we write our realtime prediction"
   ]
  },
  {
   "cell_type": "code",
   "execution_count": 32,
   "metadata": {
    "execution": {
     "iopub.execute_input": "2021-03-28T11:20:17.265814Z",
     "iopub.status.busy": "2021-03-28T11:20:17.264662Z",
     "iopub.status.idle": "2021-03-28T11:20:19.003098Z",
     "shell.execute_reply": "2021-03-28T11:20:19.003746Z"
    },
    "papermill": {
     "duration": 1.790545,
     "end_time": "2021-03-28T11:20:19.003986",
     "exception": false,
     "start_time": "2021-03-28T11:20:17.213441",
     "status": "completed"
    },
    "tags": []
   },
   "outputs": [
    {
     "name": "stdout",
     "output_type": "stream",
     "text": [
      "prediction: [1 1 1 ... 1 1 1]\n"
     ]
    },
    {
     "ename": "OSError",
     "evalue": "[Errno 30] Read-only file system: '/kaggle/input/suspicious-tweets/suspicious tweets.csv'",
     "output_type": "error",
     "traceback": [
      "\u001b[0;31m---------------------------------------------------------------------------\u001b[0m",
      "\u001b[0;31mOSError\u001b[0m                                   Traceback (most recent call last)",
      "\u001b[0;32m<ipython-input-32-f621de216668>\u001b[0m in \u001b[0;36m<module>\u001b[0;34m\u001b[0m\n\u001b[1;32m      7\u001b[0m \u001b[0;31m# saving predicted labels in .csv file\u001b[0m\u001b[0;34m\u001b[0m\u001b[0;34m\u001b[0m\u001b[0;34m\u001b[0m\u001b[0m\n\u001b[1;32m      8\u001b[0m \u001b[0mdf\u001b[0m\u001b[0;34m[\u001b[0m\u001b[0;34m'autotag'\u001b[0m\u001b[0;34m]\u001b[0m \u001b[0;34m=\u001b[0m \u001b[0mmy_pred\u001b[0m\u001b[0;34m\u001b[0m\u001b[0;34m\u001b[0m\u001b[0m\n\u001b[0;32m----> 9\u001b[0;31m \u001b[0mdf\u001b[0m\u001b[0;34m.\u001b[0m\u001b[0mto_csv\u001b[0m\u001b[0;34m(\u001b[0m\u001b[0;34m'/kaggle/input/suspicious-tweets/suspicious tweets.csv'\u001b[0m\u001b[0;34m,\u001b[0m\u001b[0mindex\u001b[0m \u001b[0;34m=\u001b[0m \u001b[0;32mFalse\u001b[0m\u001b[0;34m)\u001b[0m\u001b[0;34m\u001b[0m\u001b[0;34m\u001b[0m\u001b[0m\n\u001b[0m",
      "\u001b[0;32m/opt/conda/lib/python3.7/site-packages/pandas/core/generic.py\u001b[0m in \u001b[0;36mto_csv\u001b[0;34m(self, path_or_buf, sep, na_rep, float_format, columns, header, index, index_label, mode, encoding, compression, quoting, quotechar, line_terminator, chunksize, date_format, doublequote, escapechar, decimal, errors, storage_options)\u001b[0m\n\u001b[1;32m   3398\u001b[0m             \u001b[0mdoublequote\u001b[0m\u001b[0;34m=\u001b[0m\u001b[0mdoublequote\u001b[0m\u001b[0;34m,\u001b[0m\u001b[0;34m\u001b[0m\u001b[0;34m\u001b[0m\u001b[0m\n\u001b[1;32m   3399\u001b[0m             \u001b[0mescapechar\u001b[0m\u001b[0;34m=\u001b[0m\u001b[0mescapechar\u001b[0m\u001b[0;34m,\u001b[0m\u001b[0;34m\u001b[0m\u001b[0;34m\u001b[0m\u001b[0m\n\u001b[0;32m-> 3400\u001b[0;31m             \u001b[0mstorage_options\u001b[0m\u001b[0;34m=\u001b[0m\u001b[0mstorage_options\u001b[0m\u001b[0;34m,\u001b[0m\u001b[0;34m\u001b[0m\u001b[0;34m\u001b[0m\u001b[0m\n\u001b[0m\u001b[1;32m   3401\u001b[0m         )\n\u001b[1;32m   3402\u001b[0m \u001b[0;34m\u001b[0m\u001b[0m\n",
      "\u001b[0;32m/opt/conda/lib/python3.7/site-packages/pandas/io/formats/format.py\u001b[0m in \u001b[0;36mto_csv\u001b[0;34m(self, path_or_buf, encoding, sep, columns, index_label, mode, compression, quoting, quotechar, line_terminator, chunksize, date_format, doublequote, escapechar, errors, storage_options)\u001b[0m\n\u001b[1;32m   1081\u001b[0m             \u001b[0mformatter\u001b[0m\u001b[0;34m=\u001b[0m\u001b[0mself\u001b[0m\u001b[0;34m.\u001b[0m\u001b[0mfmt\u001b[0m\u001b[0;34m,\u001b[0m\u001b[0;34m\u001b[0m\u001b[0;34m\u001b[0m\u001b[0m\n\u001b[1;32m   1082\u001b[0m         )\n\u001b[0;32m-> 1083\u001b[0;31m         \u001b[0mcsv_formatter\u001b[0m\u001b[0;34m.\u001b[0m\u001b[0msave\u001b[0m\u001b[0;34m(\u001b[0m\u001b[0;34m)\u001b[0m\u001b[0;34m\u001b[0m\u001b[0;34m\u001b[0m\u001b[0m\n\u001b[0m\u001b[1;32m   1084\u001b[0m \u001b[0;34m\u001b[0m\u001b[0m\n\u001b[1;32m   1085\u001b[0m         \u001b[0;32mif\u001b[0m \u001b[0mcreated_buffer\u001b[0m\u001b[0;34m:\u001b[0m\u001b[0;34m\u001b[0m\u001b[0;34m\u001b[0m\u001b[0m\n",
      "\u001b[0;32m/opt/conda/lib/python3.7/site-packages/pandas/io/formats/csvs.py\u001b[0m in \u001b[0;36msave\u001b[0;34m(self)\u001b[0m\n\u001b[1;32m    232\u001b[0m             \u001b[0merrors\u001b[0m\u001b[0;34m=\u001b[0m\u001b[0mself\u001b[0m\u001b[0;34m.\u001b[0m\u001b[0merrors\u001b[0m\u001b[0;34m,\u001b[0m\u001b[0;34m\u001b[0m\u001b[0;34m\u001b[0m\u001b[0m\n\u001b[1;32m    233\u001b[0m             \u001b[0mcompression\u001b[0m\u001b[0;34m=\u001b[0m\u001b[0mself\u001b[0m\u001b[0;34m.\u001b[0m\u001b[0mcompression\u001b[0m\u001b[0;34m,\u001b[0m\u001b[0;34m\u001b[0m\u001b[0;34m\u001b[0m\u001b[0m\n\u001b[0;32m--> 234\u001b[0;31m             \u001b[0mstorage_options\u001b[0m\u001b[0;34m=\u001b[0m\u001b[0mself\u001b[0m\u001b[0;34m.\u001b[0m\u001b[0mstorage_options\u001b[0m\u001b[0;34m,\u001b[0m\u001b[0;34m\u001b[0m\u001b[0;34m\u001b[0m\u001b[0m\n\u001b[0m\u001b[1;32m    235\u001b[0m         ) as handles:\n\u001b[1;32m    236\u001b[0m \u001b[0;34m\u001b[0m\u001b[0m\n",
      "\u001b[0;32m/opt/conda/lib/python3.7/site-packages/pandas/io/common.py\u001b[0m in \u001b[0;36mget_handle\u001b[0;34m(path_or_buf, mode, encoding, compression, memory_map, is_text, errors, storage_options)\u001b[0m\n\u001b[1;32m    642\u001b[0m                 \u001b[0mencoding\u001b[0m\u001b[0;34m=\u001b[0m\u001b[0mioargs\u001b[0m\u001b[0;34m.\u001b[0m\u001b[0mencoding\u001b[0m\u001b[0;34m,\u001b[0m\u001b[0;34m\u001b[0m\u001b[0;34m\u001b[0m\u001b[0m\n\u001b[1;32m    643\u001b[0m                 \u001b[0merrors\u001b[0m\u001b[0;34m=\u001b[0m\u001b[0merrors\u001b[0m\u001b[0;34m,\u001b[0m\u001b[0;34m\u001b[0m\u001b[0;34m\u001b[0m\u001b[0m\n\u001b[0;32m--> 644\u001b[0;31m                 \u001b[0mnewline\u001b[0m\u001b[0;34m=\u001b[0m\u001b[0;34m\"\"\u001b[0m\u001b[0;34m,\u001b[0m\u001b[0;34m\u001b[0m\u001b[0;34m\u001b[0m\u001b[0m\n\u001b[0m\u001b[1;32m    645\u001b[0m             )\n\u001b[1;32m    646\u001b[0m         \u001b[0;32melse\u001b[0m\u001b[0;34m:\u001b[0m\u001b[0;34m\u001b[0m\u001b[0;34m\u001b[0m\u001b[0m\n",
      "\u001b[0;31mOSError\u001b[0m: [Errno 30] Read-only file system: '/kaggle/input/suspicious-tweets/suspicious tweets.csv'"
     ]
    }
   ],
   "source": [
    "# converting content to lower case\n",
    "pred = (df['message'].str.lower())\n",
    "# printing predictions made by model\n",
    "print(\"prediction: {}\". format(dt.predict(count_vect.transform(pred.values.astype('U')))))\n",
    "# saving predictions in a variable\n",
    "my_pred = dt.predict(count_vect.transform(pred.values.astype('U')))\n",
    "# saving predicted labels in .csv file\n",
    "df['autotag'] = my_pred\n",
    "df.to_csv('/kaggle/input/suspicious-tweets/suspicious tweets.csv',index = False)"
   ]
  },
  {
   "cell_type": "code",
   "execution_count": 33,
   "metadata": {
    "execution": {
     "iopub.execute_input": "2021-03-28T11:20:19.063303Z",
     "iopub.status.busy": "2021-03-28T11:20:19.062529Z",
     "iopub.status.idle": "2021-03-28T11:20:19.095722Z",
     "shell.execute_reply": "2021-03-28T11:20:19.096276Z"
    },
    "papermill": {
     "duration": 0.0645,
     "end_time": "2021-03-28T11:20:19.096501",
     "exception": false,
     "start_time": "2021-03-28T11:20:19.032001",
     "status": "completed"
    },
    "tags": []
   },
   "outputs": [],
   "source": [
    "# getting the number of -ve , +ve  predictions \n",
    "positive = 0\n",
    "negative = 0\n",
    "\n",
    "for v in my_pred:\n",
    " if (v == 1):\n",
    "  positive += 1\n",
    " elif (v == 0):\n",
    "  negative += 1"
   ]
  },
  {
   "cell_type": "code",
   "execution_count": 34,
   "metadata": {
    "execution": {
     "iopub.execute_input": "2021-03-28T11:20:19.153233Z",
     "iopub.status.busy": "2021-03-28T11:20:19.152493Z",
     "iopub.status.idle": "2021-03-28T11:20:19.159627Z",
     "shell.execute_reply": "2021-03-28T11:20:19.160194Z"
    },
    "papermill": {
     "duration": 0.037457,
     "end_time": "2021-03-28T11:20:19.160415",
     "exception": false,
     "start_time": "2021-03-28T11:20:19.122958",
     "status": "completed"
    },
    "tags": []
   },
   "outputs": [],
   "source": [
    "# function for quality measurement (can be set to required parameters)\n",
    "def quality(pos,total):\n",
    "    if((pos*100)/total >= 0 and (pos*100)/total <=24 ):\n",
    "        print('Quality: Very Negative')\n",
    "    elif((pos*100)/total >= 25 and (pos*100)/total <=49 ):\n",
    "        print('Quality: Negative')\n",
    "    elif((pos*100)/total >= 50 and (pos*100)/total <=74 ):\n",
    "        print('Quality: Positive')\n",
    "    elif((pos*100)/total >= 75 and (pos*100)/total <=100 ):\n",
    "        print('Quality: Very Positive')\n"
   ]
  },
  {
   "cell_type": "code",
   "execution_count": 35,
   "metadata": {
    "execution": {
     "iopub.execute_input": "2021-03-28T11:20:19.218154Z",
     "iopub.status.busy": "2021-03-28T11:20:19.216970Z",
     "iopub.status.idle": "2021-03-28T11:20:19.327345Z",
     "shell.execute_reply": "2021-03-28T11:20:19.326615Z"
    },
    "papermill": {
     "duration": 0.140523,
     "end_time": "2021-03-28T11:20:19.327528",
     "exception": false,
     "start_time": "2021-03-28T11:20:19.187005",
     "status": "completed"
    },
    "tags": []
   },
   "outputs": [
    {
     "data": {
      "image/png": "[encoded data removed]",
      "text/plain": [
       "<Figure size 432x288 with 1 Axes>"
      ]
     },
     "metadata": {
      "needs_background": "light"
     },
     "output_type": "display_data"
    },
    {
     "name": "stdout",
     "output_type": "stream",
     "text": [
      "Sentiment Analysis - Positive: 47364, Negative: 12636\n",
      "Quality: Very Positive\n"
     ]
    }
   ],
   "source": [
    "# importing library to plot charts\n",
    "import matplotlib.pyplot as plt \n",
    "  \n",
    "# x-coordinates of left sides of bars  \n",
    "left = [100, 200 ] \n",
    "  \n",
    "# heights of bars \n",
    "height = [positive,negative] \n",
    "  \n",
    "# labels for bars \n",
    "tick_label = ['Positive', 'Negative'] \n",
    "  \n",
    "# plotting a bar chart \n",
    "plt.bar(left, height, tick_label = tick_label, width = 80, color = ['green','blue']) \n",
    "  \n",
    "# naming the x-axis \n",
    "plt.xlabel('Sentiment') \n",
    "# naming the y-axis \n",
    "plt.ylabel('Reviews') \n",
    "# plot title \n",
    "plt.title('Sentiment Analysis') \n",
    "  \n",
    "# function to show the plot \n",
    "plt.show() \n",
    "print (\"Sentiment Analysis - Positive: \"+str(positive)+\", Negative: \"+str(negative))\n",
    "quality(positive,(positive+negative))"
   ]
  },
  {
   "cell_type": "code",
   "execution_count": 36,
   "metadata": {
    "execution": {
     "iopub.execute_input": "2021-03-28T11:20:19.390554Z",
     "iopub.status.busy": "2021-03-28T11:20:19.389826Z",
     "iopub.status.idle": "2021-03-28T11:20:19.392955Z",
     "shell.execute_reply": "2021-03-28T11:20:19.393430Z"
    },
    "papermill": {
     "duration": 0.037411,
     "end_time": "2021-03-28T11:20:19.393665",
     "exception": false,
     "start_time": "2021-03-28T11:20:19.356254",
     "status": "completed"
    },
    "tags": []
   },
   "outputs": [],
   "source": [
    "# getting negativity \n",
    "negativeity = (negative*100)/(positive+negative)\n",
    "positivity = (positive*100)/(positive+negative)"
   ]
  },
  {
   "cell_type": "code",
   "execution_count": 37,
   "metadata": {
    "execution": {
     "iopub.execute_input": "2021-03-28T11:20:19.470436Z",
     "iopub.status.busy": "2021-03-28T11:20:19.469221Z",
     "iopub.status.idle": "2021-03-28T11:20:19.563799Z",
     "shell.execute_reply": "2021-03-28T11:20:19.563171Z"
    },
    "papermill": {
     "duration": 0.142303,
     "end_time": "2021-03-28T11:20:19.563964",
     "exception": false,
     "start_time": "2021-03-28T11:20:19.421661",
     "status": "completed"
    },
    "tags": []
   },
   "outputs": [
    {
     "data": {
      "image/png": "[encoded data removed]",
      "text/plain": [
       "<Figure size 432x288 with 1 Axes>"
      ]
     },
     "metadata": {
      "needs_background": "light"
     },
     "output_type": "display_data"
    },
    {
     "name": "stdout",
     "output_type": "stream",
     "text": [
      "negativeity: 21.06 %  Positivity: 78.94 %\n"
     ]
    }
   ],
   "source": [
    "# importing library to plot charts\n",
    "import matplotlib.pyplot as plt \n",
    "  \n",
    "# x-coordinates of left sides of bars  \n",
    "left = [20 , 80] \n",
    "  \n",
    "# heights of bars \n",
    "height = [negativeity,positivity] \n",
    "\n",
    "  \n",
    "# labels for bars \n",
    "tick_label = ['negativeity','positivity'] \n",
    "\n",
    "  \n",
    "# plotting a bar chart \n",
    "plt.bar(left, height, tick_label = tick_label, width = 50, color = ['red','green']) \n",
    "\n",
    "  \n",
    "\n",
    "# plot title \n",
    "plt.title('negativeity of tweets') \n",
    "  \n",
    "# setting y-axis limit\n",
    "plt.ylim(0,100)\n",
    "# setting x-axis limit\n",
    "plt.xlim(0,100)\n",
    "# function to show the plot \n",
    "plt.show() \n",
    "print (\"negativeity: \"+str(round(negativeity,2))+ \" %  \" + \"Positivity: \"+str(round(positivity,2))+\" %\")"
   ]
  },
  {
   "cell_type": "code",
   "execution_count": null,
   "metadata": {
    "papermill": {
     "duration": 0.029193,
     "end_time": "2021-03-28T11:20:19.622341",
     "exception": false,
     "start_time": "2021-03-28T11:20:19.593148",
     "status": "completed"
    },
    "tags": []
   },
   "outputs": [],
   "source": []
  }
 ],
 "metadata": {
  "kernelspec": {
   "display_name": "Python 3",
   "language": "python",
   "name": "python3"
  },
  "language_info": {
   "codemirror_mode": {
    "name": "ipython",
    "version": 3
   },
   "file_extension": ".py",
   "mimetype": "text/x-python",
   "name": "python",
   "nbconvert_exporter": "python",
   "pygments_lexer": "ipython3",
   "version": "3.7.9"
  },
  "papermill": {
   "default_parameters": {},
   "duration": 717.465581,
   "end_time": "2021-03-28T11:20:20.665135",
   "environment_variables": {},
   "exception": null,
   "input_path": "__notebook__.ipynb",
   "output_path": "__notebook__.ipynb",
   "parameters": {},
   "start_time": "2021-03-28T11:08:23.199554",
   "version": "2.2.2"
  }
 },
 "nbformat": 4,
 "nbformat_minor": 4
}
